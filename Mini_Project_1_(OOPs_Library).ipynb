{
  "nbformat": 4,
  "nbformat_minor": 0,
  "metadata": {
    "colab": {
      "provenance": []
    },
    "kernelspec": {
      "name": "python3",
      "display_name": "Python 3"
    },
    "language_info": {
      "name": "python"
    }
  },
  "cells": [
    {
      "cell_type": "code",
      "execution_count": null,
      "metadata": {
        "colab": {
          "base_uri": "https://localhost:8080/",
          "height": 657
        },
        "id": "nYy_Sd5BEVHs",
        "outputId": "f1522c58-5351-4b45-9a82-4e9eca03d0b9"
      },
      "outputs": [
        {
          "name": "stdout",
          "output_type": "stream",
          "text": [
            "Welcome to the CodeWithINSTANT library. Enter your choice to continue\n",
            "1. Display Books\n",
            "2. Lend a Book\n",
            "3. Add a Book\n",
            "4. Return a Book\n",
            "1\n",
            "We have following books in our library: CodeWithINSTANT\n",
            "Python\n",
            "Rich Daddy Poor Daddy\n",
            "Harry Potter\n",
            "C++ Basics\n",
            "Algorithms by CLRS\n",
            "Press q to quit and c to continue\n",
            "1\n"
          ]
        },
        {
          "output_type": "error",
          "ename": "KeyboardInterrupt",
          "evalue": "ignored",
          "traceback": [
            "\u001b[0;31m---------------------------------------------------------------------------\u001b[0m",
            "\u001b[0;31mKeyboardInterrupt\u001b[0m                         Traceback (most recent call last)",
            "\u001b[0;32m<ipython-input-29-3b66098fc8dd>\u001b[0m in \u001b[0;36m<module>\u001b[0;34m\u001b[0m\n\u001b[1;32m     14\u001b[0m \u001b[0;34m\u001b[0m\u001b[0m\n\u001b[1;32m     15\u001b[0m \u001b[0;34m\u001b[0m\u001b[0m\n\u001b[0;32m---> 16\u001b[0;31m \u001b[0;32mclass\u001b[0m \u001b[0mLibrary\u001b[0m\u001b[0;34m:\u001b[0m\u001b[0;34m\u001b[0m\u001b[0;34m\u001b[0m\u001b[0m\n\u001b[0m\u001b[1;32m     17\u001b[0m     \u001b[0;32mdef\u001b[0m \u001b[0m__init__\u001b[0m\u001b[0;34m(\u001b[0m\u001b[0mself\u001b[0m\u001b[0;34m,\u001b[0m \u001b[0mlist\u001b[0m\u001b[0;34m,\u001b[0m \u001b[0mname\u001b[0m\u001b[0;34m)\u001b[0m\u001b[0;34m:\u001b[0m\u001b[0;34m\u001b[0m\u001b[0;34m\u001b[0m\u001b[0m\n\u001b[1;32m     18\u001b[0m         \u001b[0mself\u001b[0m\u001b[0;34m.\u001b[0m\u001b[0mbooksList\u001b[0m \u001b[0;34m=\u001b[0m \u001b[0mlist\u001b[0m\u001b[0;34m\u001b[0m\u001b[0;34m\u001b[0m\u001b[0m\n",
            "\u001b[0;32m<ipython-input-29-3b66098fc8dd>\u001b[0m in \u001b[0;36mLibrary\u001b[0;34m()\u001b[0m\n\u001b[1;32m     80\u001b[0m         \u001b[0muser_choice2\u001b[0m \u001b[0;34m=\u001b[0m \u001b[0;34m\"\"\u001b[0m\u001b[0;34m\u001b[0m\u001b[0;34m\u001b[0m\u001b[0m\n\u001b[1;32m     81\u001b[0m         \u001b[0;32mwhile\u001b[0m\u001b[0;34m(\u001b[0m\u001b[0muser_choice2\u001b[0m\u001b[0;34m!=\u001b[0m\u001b[0;34m\"c\"\u001b[0m \u001b[0;32mand\u001b[0m \u001b[0muser_choice2\u001b[0m\u001b[0;34m!=\u001b[0m\u001b[0;34m\"q\"\u001b[0m\u001b[0;34m)\u001b[0m\u001b[0;34m:\u001b[0m\u001b[0;34m\u001b[0m\u001b[0;34m\u001b[0m\u001b[0m\n\u001b[0;32m---> 82\u001b[0;31m             \u001b[0muser_choice2\u001b[0m \u001b[0;34m=\u001b[0m \u001b[0minput\u001b[0m\u001b[0;34m(\u001b[0m\u001b[0;34m)\u001b[0m\u001b[0;34m\u001b[0m\u001b[0;34m\u001b[0m\u001b[0m\n\u001b[0m\u001b[1;32m     83\u001b[0m             \u001b[0;32mif\u001b[0m \u001b[0muser_choice2\u001b[0m \u001b[0;34m==\u001b[0m \u001b[0;34m\"q\"\u001b[0m\u001b[0;34m:\u001b[0m\u001b[0;34m\u001b[0m\u001b[0;34m\u001b[0m\u001b[0m\n\u001b[1;32m     84\u001b[0m                 \u001b[0mexit\u001b[0m\u001b[0;34m(\u001b[0m\u001b[0;34m)\u001b[0m\u001b[0;34m\u001b[0m\u001b[0;34m\u001b[0m\u001b[0m\n",
            "\u001b[0;32m/usr/local/lib/python3.7/dist-packages/ipykernel/kernelbase.py\u001b[0m in \u001b[0;36mraw_input\u001b[0;34m(self, prompt)\u001b[0m\n\u001b[1;32m    861\u001b[0m             \u001b[0mself\u001b[0m\u001b[0;34m.\u001b[0m\u001b[0m_parent_ident\u001b[0m\u001b[0;34m,\u001b[0m\u001b[0;34m\u001b[0m\u001b[0;34m\u001b[0m\u001b[0m\n\u001b[1;32m    862\u001b[0m             \u001b[0mself\u001b[0m\u001b[0;34m.\u001b[0m\u001b[0m_parent_header\u001b[0m\u001b[0;34m,\u001b[0m\u001b[0;34m\u001b[0m\u001b[0;34m\u001b[0m\u001b[0m\n\u001b[0;32m--> 863\u001b[0;31m             \u001b[0mpassword\u001b[0m\u001b[0;34m=\u001b[0m\u001b[0;32mFalse\u001b[0m\u001b[0;34m,\u001b[0m\u001b[0;34m\u001b[0m\u001b[0;34m\u001b[0m\u001b[0m\n\u001b[0m\u001b[1;32m    864\u001b[0m         )\n\u001b[1;32m    865\u001b[0m \u001b[0;34m\u001b[0m\u001b[0m\n",
            "\u001b[0;32m/usr/local/lib/python3.7/dist-packages/ipykernel/kernelbase.py\u001b[0m in \u001b[0;36m_input_request\u001b[0;34m(self, prompt, ident, parent, password)\u001b[0m\n\u001b[1;32m    902\u001b[0m             \u001b[0;32mexcept\u001b[0m \u001b[0mKeyboardInterrupt\u001b[0m\u001b[0;34m:\u001b[0m\u001b[0;34m\u001b[0m\u001b[0;34m\u001b[0m\u001b[0m\n\u001b[1;32m    903\u001b[0m                 \u001b[0;31m# re-raise KeyboardInterrupt, to truncate traceback\u001b[0m\u001b[0;34m\u001b[0m\u001b[0;34m\u001b[0m\u001b[0;34m\u001b[0m\u001b[0m\n\u001b[0;32m--> 904\u001b[0;31m                 \u001b[0;32mraise\u001b[0m \u001b[0mKeyboardInterrupt\u001b[0m\u001b[0;34m(\u001b[0m\u001b[0;34m\"Interrupted by user\"\u001b[0m\u001b[0;34m)\u001b[0m \u001b[0;32mfrom\u001b[0m \u001b[0;32mNone\u001b[0m\u001b[0;34m\u001b[0m\u001b[0;34m\u001b[0m\u001b[0m\n\u001b[0m\u001b[1;32m    905\u001b[0m             \u001b[0;32mexcept\u001b[0m \u001b[0mException\u001b[0m \u001b[0;32mas\u001b[0m \u001b[0me\u001b[0m\u001b[0;34m:\u001b[0m\u001b[0;34m\u001b[0m\u001b[0;34m\u001b[0m\u001b[0m\n\u001b[1;32m    906\u001b[0m                 \u001b[0mself\u001b[0m\u001b[0;34m.\u001b[0m\u001b[0mlog\u001b[0m\u001b[0;34m.\u001b[0m\u001b[0mwarning\u001b[0m\u001b[0;34m(\u001b[0m\u001b[0;34m\"Invalid Message:\"\u001b[0m\u001b[0;34m,\u001b[0m \u001b[0mexc_info\u001b[0m\u001b[0;34m=\u001b[0m\u001b[0;32mTrue\u001b[0m\u001b[0;34m)\u001b[0m\u001b[0;34m\u001b[0m\u001b[0;34m\u001b[0m\u001b[0m\n",
            "\u001b[0;31mKeyboardInterrupt\u001b[0m: Interrupted by user"
          ]
        }
      ],
      "source": [
        "# Create a library class\n",
        "# display book\n",
        "# lend book - (who owns the book if not present)\n",
        "# add book\n",
        "# return book\n",
        "\n",
        "# INSTANTLibrary = Library(listofbooks, library_name)\n",
        "\n",
        "\n",
        "#dictionary (books-nameofperson)\n",
        "\n",
        "# create a main function and run an infinite while loop asking\n",
        "# users for their input\n",
        "\n",
        "\n",
        "class Library:\n",
        "    def __init__(self, list, name):\n",
        "        self.booksList = list\n",
        "        self.name = name\n",
        "        self.lendDict = {}\n",
        "\n",
        "    def displayBooks(self):\n",
        "        print(f\"We have following books in our library: {self.name}\")\n",
        "        for book in self.booksList:\n",
        "            print(book)\n",
        "\n",
        "    def lendBook(self, user, book):\n",
        "        if book not in self.lendDict.keys():\n",
        "            self.lendDict.update({book:user})\n",
        "            print(\"Lender-Book database has been updated. You can take the book now\")\n",
        "        else:\n",
        "            print(f\"Book is already being used by {self.lendDict[book]}\")\n",
        "\n",
        "    def addBook(self, book):\n",
        "        self.booksList.append(book)\n",
        "        print(\"Book has been added to the book list\")\n",
        "\n",
        "    def returnBook(self, book):\n",
        "        self.lendDict.pop(book)\n",
        "\n",
        "\n",
        "#if __name__ == '__main__':\n",
        "    instant = Library(['Python', 'Rich Daddy Poor Daddy', 'Harry Potter', 'C++ Basics', 'Algorithms by CLRS'], \"CodeWithINSTANT\")\n",
        "\n",
        "    while(True):\n",
        "        print(f\"Welcome to the {instant.name} library. Enter your choice to continue\")\n",
        "        print(\"1. Display Books\")\n",
        "        print(\"2. Lend a Book\")\n",
        "        print(\"3. Add a Book\")\n",
        "        print(\"4. Return a Book\")\n",
        "        user_choice = input()\n",
        "        if user_choice not in ['1','2','3','4']:\n",
        "            print(\"Please enter a valid option\")\n",
        "            continue\n",
        "\n",
        "        else:\n",
        "            user_choice = int(user_choice)\n",
        "\n",
        "\n",
        "        if user_choice == 1:\n",
        "            instant.displayBooks()\n",
        "\n",
        "        elif user_choice == 2:\n",
        "            book = input(\"Enter the name of the book you want to lend:\")\n",
        "            user = input(\"Enter your name\")\n",
        "            instant.lendBook(user, book)\n",
        "\n",
        "        elif user_choice == 3:\n",
        "            book = input(\"Enter the name of the book you want to add:\")\n",
        "            instant.addBook(book)\n",
        "\n",
        "        elif user_choice == 4:\n",
        "            book = input(\"Enter the name of the book you want to return:\")\n",
        "            instant.returnBook(book)\n",
        "\n",
        "        else:\n",
        "            print(\"Not a valid option\")\n",
        "\n",
        "\n",
        "        print(\"Press q to quit and c to continue\")\n",
        "        user_choice2 = \"\"\n",
        "        while(user_choice2!=\"c\" and user_choice2!=\"q\"):\n",
        "            user_choice2 = input()\n",
        "            if user_choice2 == \"q\":\n",
        "                exit()\n",
        "\n",
        "            elif user_choice2 == \"c\":\n",
        "                continue\n",
        "\n"
      ]
    },
    {
      "cell_type": "code",
      "source": [
        "# code\n",
        "class geeks:\n",
        "\n",
        "    # this is used to print the number\n",
        "    # of instances of a class\n",
        "    counter = 0\n",
        "    name = 'Omar'\n",
        "    # constructor of geeks class\n",
        "    def __init__(self):\n",
        "\n",
        "        # increment\n",
        "        geeks.counter += 1\n",
        "        geeks.name\n",
        "\n",
        "\n",
        "# object or instance of geeks class\n",
        "g1 = geeks()\n",
        "g2 = geeks()\n",
        "g3 = geeks()\n",
        "g4 = geeks()\n",
        "print(geeks.counter)\n",
        "print(geeks.name)"
      ],
      "metadata": {
        "id": "5523purcEgzv",
        "colab": {
          "base_uri": "https://localhost:8080/"
        },
        "outputId": "b3450a44-8c06-43ec-d419-ef086fcaa146"
      },
      "execution_count": null,
      "outputs": [
        {
          "output_type": "stream",
          "name": "stdout",
          "text": [
            "4\n",
            "Omar\n"
          ]
        }
      ]
    },
    {
      "cell_type": "code",
      "source": [
        "class Student:\n",
        "#Constructor - non parameterized\n",
        "  def __init__(self):\n",
        "    print(\"This is non parametrized constructor\")\n",
        "  def show(self,name):\n",
        "    print(\"Hello\",name)\n",
        "student = Student()\n",
        "student.show(\"John\")"
      ],
      "metadata": {
        "colab": {
          "base_uri": "https://localhost:8080/"
        },
        "id": "qjBp4b1LXkDC",
        "outputId": "210ad1fa-a6df-452f-b34c-da87c294f86e"
      },
      "execution_count": null,
      "outputs": [
        {
          "output_type": "stream",
          "name": "stdout",
          "text": [
            "This is non parametrized constructor\n",
            "Hello John\n"
          ]
        }
      ]
    },
    {
      "cell_type": "code",
      "source": [
        "class Student:\n",
        "#Constructor - parameterized\n",
        "  def __init__(self, name):\n",
        "    print(\"This is parametrized constructor\")\n",
        "    self.name = name\n",
        "  def show(self):\n",
        "    print(\"Hello\",self.name)\n",
        "student = Student(\"John\")\n",
        "student.show()"
      ],
      "metadata": {
        "colab": {
          "base_uri": "https://localhost:8080/"
        },
        "id": "UcIROilFcRfe",
        "outputId": "4a6c3cac-146e-451e-9b3d-23191bb7f1aa"
      },
      "execution_count": null,
      "outputs": [
        {
          "output_type": "stream",
          "name": "stdout",
          "text": [
            "This is parametrized constructor\n",
            "Hello John\n"
          ]
        }
      ]
    },
    {
      "cell_type": "code",
      "source": [
        "def multiply(by = None):\n",
        "\tdef multiply_real_decorator(function):\n",
        "\t\tdef wrapper(*args,**kwargs):\n",
        "\t\t\treturn by * function(*args,**kwargs)\n",
        "\t\treturn wrapper\n",
        "\treturn multiply_real_decorator\n",
        "\n",
        "\n",
        "@multiply(by = 2)\n",
        "def adder(a,b):\n",
        "  return a + b\n",
        "\n",
        "@multiply(by = 3)\n",
        "def subtractor(a,b):\n",
        "  return a - b\n",
        "\n",
        "print(adder(2,3))\n",
        "print(subtractor(2,3))"
      ],
      "metadata": {
        "colab": {
          "base_uri": "https://localhost:8080/"
        },
        "id": "SibZjVuTcfQx",
        "outputId": "ab658692-ac78-42f1-b5d7-d2d9c4397734"
      },
      "execution_count": null,
      "outputs": [
        {
          "output_type": "stream",
          "name": "stdout",
          "text": [
            "10\n",
            "-1\n"
          ]
        }
      ]
    },
    {
      "cell_type": "code",
      "source": [
        "def star(func):\n",
        "    def inner(*args, **kwargs):\n",
        "        print(\"*\" * 30)\n",
        "        func(*args, **kwargs)\n",
        "        print(\"*\" * 30)\n",
        "    return inner\n",
        "\n",
        "\n",
        "def percent(func):\n",
        "    def inner(*args, **kwargs):\n",
        "        print(\"%\" * 30)\n",
        "        func(*args, **kwargs)\n",
        "        print(\"%\" * 30)\n",
        "    return inner\n",
        "\n",
        "\n",
        "@star\n",
        "@percent\n",
        "def printer(msg):\n",
        "    print(msg)\n",
        "\n",
        "\n",
        "printer(\"Hello\")"
      ],
      "metadata": {
        "colab": {
          "base_uri": "https://localhost:8080/"
        },
        "id": "DgBytCcAeRQq",
        "outputId": "3ec5f7f3-67f6-4a33-d339-f3da2f4fe88a"
      },
      "execution_count": null,
      "outputs": [
        {
          "output_type": "stream",
          "name": "stdout",
          "text": [
            "******************************\n",
            "%%%%%%%%%%%%%%%%%%%%%%%%%%%%%%\n",
            "Hello\n",
            "%%%%%%%%%%%%%%%%%%%%%%%%%%%%%%\n",
            "******************************\n"
          ]
        }
      ]
    },
    {
      "cell_type": "code",
      "source": [
        "class example:\n",
        "  def __init__(self):\n",
        "    self._variable1='protected variale'\n",
        "    self.__variable2='private variable'\n",
        "    self.variable3='public variable'"
      ],
      "metadata": {
        "id": "IPpB33SretJi"
      },
      "execution_count": null,
      "outputs": []
    },
    {
      "cell_type": "code",
      "source": [
        "class Superclass:\n",
        "    var = 1\n",
        "    def getVar(self):\n",
        "        print(self.var)\n",
        "\n",
        "class Subclass(Superclass):\n",
        "    def __init__(self):\n",
        "        self.var = 123\n",
        "\n",
        "my_object = Subclass()\n",
        "my_object.getVar() # outputs 123\n"
      ],
      "metadata": {
        "colab": {
          "base_uri": "https://localhost:8080/"
        },
        "id": "nbk69g7DfKcC",
        "outputId": "dcbe99a3-1027-4be9-ac01-0a5334b283ff"
      },
      "execution_count": null,
      "outputs": [
        {
          "output_type": "stream",
          "name": "stdout",
          "text": [
            "123\n"
          ]
        }
      ]
    },
    {
      "cell_type": "code",
      "source": [
        "class Superclass:\n",
        "    __var = 1\n",
        "    def getVar(self):\n",
        "        print(self.__var)\n",
        "\n",
        "class Subclass(Superclass):\n",
        "    def __init__(self):\n",
        "        self.__var = 123\n",
        "\n",
        "my_object = Subclass()\n",
        "my_object.getVar() # outputs 1!\n"
      ],
      "metadata": {
        "colab": {
          "base_uri": "https://localhost:8080/"
        },
        "id": "ZtDn6Fq_fY0W",
        "outputId": "bb325289-2899-4ba9-b0f5-6226e0eaec2a"
      },
      "execution_count": null,
      "outputs": [
        {
          "output_type": "stream",
          "name": "stdout",
          "text": [
            "1\n"
          ]
        }
      ]
    },
    {
      "cell_type": "code",
      "source": [
        "class Superclass:\n",
        "    __var = 1\n",
        "\n",
        "class Subclass(Superclass):\n",
        "    def __init__(self):\n",
        "        self.__var = 123\n",
        "    def getVar(self):\n",
        "        print(self.__var)\n",
        "\n",
        "my_object = Subclass()\n",
        "my_object.getVar() # outputs 123"
      ],
      "metadata": {
        "colab": {
          "base_uri": "https://localhost:8080/"
        },
        "id": "h3EFuu92fayJ",
        "outputId": "37774092-7d8b-4d9e-c446-660d05fdeb10"
      },
      "execution_count": null,
      "outputs": [
        {
          "output_type": "stream",
          "name": "stdout",
          "text": [
            "123\n"
          ]
        }
      ]
    },
    {
      "cell_type": "code",
      "source": [
        "class Superclass:\n",
        "    __var = 1\n",
        "    def getVar(self):\n",
        "        print(self.__var)\n",
        "\n",
        "class Subclass(Superclass):\n",
        "    def __init__(self):\n",
        "        self._Superclass__var = 123\n",
        "\n",
        "my_object = Subclass()\n",
        "my_object.getVar() # outputs 123"
      ],
      "metadata": {
        "colab": {
          "base_uri": "https://localhost:8080/"
        },
        "id": "l_DmTh3gfej1",
        "outputId": "0946e879-8d26-4554-b150-95a381d2dbb5"
      },
      "execution_count": null,
      "outputs": [
        {
          "output_type": "stream",
          "name": "stdout",
          "text": [
            "123\n"
          ]
        }
      ]
    },
    {
      "cell_type": "code",
      "source": [],
      "metadata": {
        "id": "k811fN5tfhuj"
      },
      "execution_count": null,
      "outputs": []
    }
  ]
}